{
 "cells": [
  {
   "cell_type": "markdown",
   "id": "28243417",
   "metadata": {},
   "source": [
    "## Rotation Matrices -\n",
    "This class helps you directly calculate the rotation matrices rotx, roty and rotz respectively along x, y, and z using numpy and stores the input angles alpha, beta and gamma along x, y and z axis in the instance of the class Rotation. This can be further used for doing direct kinematics. "
   ]
  },
  {
   "cell_type": "code",
   "execution_count": 26,
   "id": "b4f7faf1",
   "metadata": {},
   "outputs": [],
   "source": [
    "class Rotation():\n",
    "    \n",
    "    def __init__(self, alpha, beta, gamma): #instance of the object of class Rotation\n",
    "        self.alpha = alpha\n",
    "        self.beta = beta\n",
    "        self.gamma = gamma\n",
    "        \n",
    "    def rot_x(self, x):\n",
    "        import numpy as np\n",
    "        #This does a rotation about x-axis\n",
    "        x = np.radians(x)\n",
    "        \n",
    "        #Calculate cos and sin of the input x\n",
    "        c,s = np.cos(x), np.sin(x)\n",
    "        \n",
    "        return np.array([[1,0,0],[0,c,-s],[0,s,c]])\n",
    "    \n",
    "    def rot_y(self):\n",
    "        import numpy as np\n",
    "        #This does a rotation about y-axis\n",
    "        self.beta = np.radians(y)\n",
    "        \n",
    "        #Calculate cos and sin of the input y\n",
    "        c,s = np.cos(y), np.sin(y) \n",
    "        \n",
    "        return np.array([[c,0,s],[0,1,0],[-s,0,c]])\n",
    "    \n",
    "    def rot_z(self,z):\n",
    "        import numpy as np\n",
    "        #This does a rotation about z-axis\n",
    "        self.gamma = np.radians(z)\n",
    "        \n",
    "        #Calculate cos and sin of the input z\n",
    "        c,s = np.cos(z), np.sin(z)\n",
    "        \n",
    "        return np.array([[c,-s,0],[s,c,0],[0,0,1]])\n",
    "    \n",
    "    def \n",
    "    \n",
    "    def euler_rot(self):\n",
    "        #Remember that the euler rotation in the current frame so you have to reverse the sequence of matrix multiplcation\n",
    "        \n",
    "        rotx = self.rot_x(self.alpha)\n",
    "        roty = self.rot_y(self.beta)\n",
    "        rotz = self.rot_z(self.gamma)\n",
    "        \n",
    "        return rotz @ roty @rotx\n",
    "    \n",
    "    def "
   ]
  },
  {
   "cell_type": "code",
   "execution_count": 27,
   "id": "4dfd9d12",
   "metadata": {},
   "outputs": [
    {
     "data": {
      "text/plain": [
       "array([[ 1.000000e+00,  0.000000e+00,  0.000000e+00],\n",
       "       [ 0.000000e+00,  6.123234e-17, -1.000000e+00],\n",
       "       [ 0.000000e+00,  1.000000e+00,  6.123234e-17]])"
      ]
     },
     "execution_count": 27,
     "metadata": {},
     "output_type": "execute_result"
    }
   ],
   "source": [
    "my_rotation = Rotation(90,0,90)\n",
    "\n",
    "my_rotation.rot_x(90)"
   ]
  },
  {
   "cell_type": "code",
   "execution_count": null,
   "id": "1c9718f9",
   "metadata": {},
   "outputs": [],
   "source": []
  }
 ],
 "metadata": {
  "kernelspec": {
   "display_name": "Python 3",
   "language": "python",
   "name": "python3"
  },
  "language_info": {
   "codemirror_mode": {
    "name": "ipython",
    "version": 3
   },
   "file_extension": ".py",
   "mimetype": "text/x-python",
   "name": "python",
   "nbconvert_exporter": "python",
   "pygments_lexer": "ipython3",
   "version": "3.8.8"
  }
 },
 "nbformat": 4,
 "nbformat_minor": 5
}
