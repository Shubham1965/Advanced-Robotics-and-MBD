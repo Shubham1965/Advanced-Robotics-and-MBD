{
 "cells": [
  {
   "cell_type": "markdown",
   "id": "b4c9b089",
   "metadata": {},
   "source": [
    "## Rotational Kinematics -\n",
    "This class helps you directly calculate the rotation matrices rotx, roty and rotz respectively along x, y, and z using numpy. It has additional methods to calucate rotation of C.G. of rigid bodies with respect to zeroth frame. "
   ]
  },
  {
   "cell_type": "code",
   "execution_count": 28,
   "id": "6429d46b",
   "metadata": {},
   "outputs": [],
   "source": [
    "class Rotation():\n",
    "    \n",
    "    def __init__(self, alpha, beta, gamma): #instance of the object of class Rotation\n",
    "        self.alpha = alpha\n",
    "        self.beta = beta\n",
    "        self.gamma = gamma\n",
    "        \n",
    "    def rot_x(self, x):\n",
    "        import numpy as np\n",
    "        #This does a rotation about x-axis\n",
    "        x = np.radians(x)\n",
    "        #Calculate cos and sin of the input x\n",
    "        c,s = np.cos(x), np.sin(x)\n",
    "        return np.array([[1,0,0],[0,c,-s],[0,s,c]])\n",
    "    \n",
    "    def rot_y(self):\n",
    "        import numpy as np\n",
    "        #This does a rotation about y-axis\n",
    "        self.beta = np.radians(y)\n",
    "        #Calculate cos and sin of the input y\n",
    "        c,s = np.cos(y), np.sin(y) \n",
    "        return np.array([[c,0,s],[0,1,0],[-s,0,c]])\n",
    "    \n",
    "    def rot_z(self,z):\n",
    "        import numpy as np\n",
    "        #This does a rotation about z-axis\n",
    "        self.gamma = np.radians(z)\n",
    "        #Calculate cos and sin of the input z\n",
    "        c,s = np.cos(z), np.sin(z)\n",
    "        return np.array([[c,-s,0],[s,c,0],[0,0,1]])\n",
    "    \n",
    "    def cardan_rot(self):\n",
    "        rotx = self.rot_x(self.alpha)\n",
    "        roty = self.rot_y(self.beta)\n",
    "        rotz = self.rot_z(self.gamma)\n",
    "        return rotx @ roty @rotz\n",
    "    \n",
    "    def euler_rot(self):\n",
    "        rotx = self.rot_z(self.alpha)\n",
    "        roty = self.rot_y(self.beta)\n",
    "        rotz = self.rot_z(self.gamma)\n",
    "        return rotx @ roty @rotz\n",
    "    \n",
    "    def RPY_rot(self):\n",
    "        rotx = self.rot_x(self.alpha)\n",
    "        roty = self.rot_y(self.beta)\n",
    "        rotz = self.rot_z(self.gamma)\n",
    "        return rotz @ roty @rotx\n",
    "        "
   ]
  },
  {
   "cell_type": "code",
   "execution_count": 29,
   "id": "b5d8bcd9",
   "metadata": {},
   "outputs": [
    {
     "ename": "SyntaxError",
     "evalue": "invalid syntax (<ipython-input-29-c81e27fe767e>, line 2)",
     "output_type": "error",
     "traceback": [
      "\u001b[1;36m  File \u001b[1;32m\"<ipython-input-29-c81e27fe767e>\"\u001b[1;36m, line \u001b[1;32m2\u001b[0m\n\u001b[1;33m    my_rotation = Rotation(alpha = , beta = , gamma = )\u001b[0m\n\u001b[1;37m                                   ^\u001b[0m\n\u001b[1;31mSyntaxError\u001b[0m\u001b[1;31m:\u001b[0m invalid syntax\n"
     ]
    }
   ],
   "source": [
    "#Play around with this class instance which makes it easier to calculate rotation matrices\n",
    "my_rotation = Rotation(alpha = , beta = , gamma = )\n"
   ]
  },
  {
   "cell_type": "code",
   "execution_count": null,
   "id": "d2996741",
   "metadata": {},
   "outputs": [],
   "source": []
  }
 ],
 "metadata": {
  "kernelspec": {
   "display_name": "Python 3",
   "language": "python",
   "name": "python3"
  },
  "language_info": {
   "codemirror_mode": {
    "name": "ipython",
    "version": 3
   },
   "file_extension": ".py",
   "mimetype": "text/x-python",
   "name": "python",
   "nbconvert_exporter": "python",
   "pygments_lexer": "ipython3",
   "version": "3.8.8"
  }
 },
 "nbformat": 4,
 "nbformat_minor": 5
}
